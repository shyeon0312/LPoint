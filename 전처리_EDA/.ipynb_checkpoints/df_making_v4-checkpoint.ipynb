{
 "cells": [
  {
   "cell_type": "markdown",
   "id": "f3d8ef27",
   "metadata": {},
   "source": [
    "## [ 함수 설명 ]\n",
    "### 변수 설명\n",
    "- 입력 변수 설명\n",
    "    - data_dir : raw data(6개)가 들어있는 폴더 위치. 해당 폴더에는 raw data만 들어있어야 함.\n",
    "    - save_dir : 생성된 dataframe을 저장시킬 폴더 위치.\n",
    "- 출력 변수 설명 (변수로 바로 선언하는 경우를 위해)\n",
    "    - df_제휴사: df3 기준으로 df1, df5, df6 merge된 dataframe\n",
    "    - df_유통사: df2 기준으로 df1, df2, df5, df6 merge된 dataframe\n",
    "    - LP_wo2   : LPoint without df2, df6 중 df_유통사(df2 기준)에 포함되지 않은 데이터\n",
    "    - LP_wo3   : LPoint without df3, df6 중 df_제휴사(df3 기준)에 포함되지 않은 데이터\n",
    "\n",
    "### 사용 방법\n",
    "- input값인 data_dir, save_dir 지정 및 함수 변수로 입력\n",
    "- csv파일로 저장이 필요하지 않은 경우, 함수 선언부 하단에 있는 csv파일 저장 코드를 지우는 것을 추천드림 (약 5~10초 소요)\n",
    "- 변수로 바로 선언하지 않는다면, 함수 선언부 맨 마지막 return행 지우세요"
   ]
  },
  {
   "cell_type": "code",
   "execution_count": 1,
   "id": "5c0e772c",
   "metadata": {},
   "outputs": [],
   "source": [
    "import os\n",
    "import pandas as pd\n",
    "import numpy as np\n",
    "import math\n",
    "import datetime"
   ]
  },
  {
   "cell_type": "code",
   "execution_count": 2,
   "id": "696b41ec",
   "metadata": {},
   "outputs": [],
   "source": [
    "# 전체 데이터 셋\n",
    "def df_making(data_dir, save_dir):\n",
    "    \n",
    "    #휴일 구하는 함수 선언\n",
    "    def get_holidays(y, m, d):\n",
    "        holidays=list([[1, 1],[2, 11],[2, 12],[2, 13],[3, 1],[5, 5],[5, 19],[6, 6],[8, 15],[9, 20],[9, 21],[9, 22],[10, 3],[10, 9],[12, 25]])\n",
    "\n",
    "        if [m, d] in holidays:  # 공휴일 날짜 안에 속하면 True\n",
    "            return 1\n",
    "        date = datetime.date(y, m, d)\n",
    "        return int(date.isoweekday() > 5) #토, 일요일이면 True\n",
    "    \n",
    "    # 폴더 위치 확인\n",
    "    filename = list()\n",
    "    for f in os.listdir(data_dir):\n",
    "        filename.append(f)\n",
    "\n",
    "    # 파일 읽어오기\n",
    "    df1 = pd.read_csv(os.path.join(data_dir, filename[0])) #고객데모정보\n",
    "    df2 = pd.read_csv(os.path.join(data_dir, filename[1])) #유통사 상품 구매 내역\n",
    "    df3 = pd.read_csv(os.path.join(data_dir, filename[2])) #제휴사 서비스 이용 내역\n",
    "    df4 = pd.read_csv(os.path.join(data_dir, filename[3])) #유통사 상품 카테고리 마스터\n",
    "    df5 = pd.read_csv(os.path.join(data_dir, filename[4])) #유통사/제휴사 점포 마스터\n",
    "    df6 = pd.read_csv(os.path.join(data_dir, filename[5])) #엘페이 결제 내역\n",
    "\n",
    "    # 컬럼명 변경\n",
    "    df1.rename(columns={'cust':'고객번호', 'ma_fem_dv':'성별', 'ages':'연령대', 'zon_hlv':'거주지'}, inplace=True)\n",
    "    df2.rename(columns={'cust':'고객번호', 'rct_no':'영수증', 'chnl_dv':'채널', 'cop_c':'유통사', 'pd_c':'상품코드', 'br_c':'점포코드', 'de_dt':'이용일자', 'de_hr':'이용시간', 'buy_am':'이용금액', 'buy_ct':'구매수량'}, inplace=True)\n",
    "    df3.rename(columns={'cust':'고객번호', 'rct_no':'영수증', 'cop_c':'제휴사', 'br_c':'점포코드', 'de_dt':'이용일자', 'vst_dt':'방문일자', 'de_hr':'이용시간', 'buy_am':'이용금액', 'chnl_dv':'채널'}, inplace=True)\n",
    "    df4.rename(columns={'pd_c':'상품코드', 'pd_nm':'소분류', 'clac_hlv_nm':'대분류', 'clac_mcls_nm':'중분류'}, inplace=True)\n",
    "    df5.rename(columns={'br_c':'점포코드', 'cop_c':'제휴사', 'zon_hlv':'점포_대분류', 'zon_mcls':'점포_중분류', 'chnl_dv':'채널'}, inplace=True)\n",
    "    df6.rename(columns={'cust':'고객번호', 'cop_c':'제휴사', 'rct_no':'영수증', 'de_dt':'이용일자', 'de_hr':'이용시간', 'buy_am':'이용금액', 'chnl_dv':'채널'}, inplace=True)\n",
    "\n",
    "    ## ---------------df_제휴사 (df3 기준 merge)---------------\n",
    "    print('---------------df_제휴사 (df3 기준 merge)---------------')\n",
    "    # 1. df1, df3를 \"고객번호\" 기준으로 합\n",
    "    df_제휴사 = pd.merge(df3, df1, how='inner', on='고객번호')\n",
    "\n",
    "    if(len(df_제휴사) == len(df3)):\n",
    "        print(\"df1과 df3이 성공적으로 merge 되었습니다.\")\n",
    "    else:\n",
    "        print(\"!! df1과 df3 merge과정 확인 필요 !!\")\n",
    "\n",
    "    # 2. df_제휴사 와 df5 를 \"점포코드\" 기준으로 합 (이 때, df5의 제휴사는 고려하지 않았음)\n",
    "    test = pd.merge(df_제휴사.drop('제휴사', axis=1), df5, how='left', on='점포코드')\n",
    "    df_제휴사_test = pd.merge(df_제휴사, df5, how='left', on='점포코드')\n",
    "    if(len(test) == len(df_제휴사)):\n",
    "        print(\"df_제휴사와 df5가 성공적으로 merge 되었습니다.\")\n",
    "        df_제휴사 = test.copy()\n",
    "        del test\n",
    "    else:\n",
    "        print(\"!! df_제휴사 + df5 merge과정 확인 필요 !!\")\n",
    "\n",
    "    # 3. df_제휴사 + LPAY 이용 여부\n",
    "    # 구분코드 = 고객번호 + 이용일자 + 이용시간 + 이용금액 + 채널 + 제휴사\n",
    "    df_제휴사['구분코드'] = df_제휴사['고객번호'] + df_제휴사['이용일자'].astype('str') + df_제휴사['이용시간'].astype('str') + df_제휴사['이용금액'].astype('str') + df_제휴사['채널'].astype('str') + df_제휴사['제휴사'].astype('str') \n",
    "    df6['구분코드'] = df6['고객번호'] + df6['이용일자'].astype('str') + df6['이용시간'].astype('str') + df6['이용금액'].astype('str') + df6['채널'].astype('str') + df6['제휴사'].astype('str')\n",
    "\n",
    "    # 구분코드가 완전히 동일한 경우한 merge한다\n",
    "    # merge된 경우만 확인하기 위해 inner join\n",
    "    df3_6 = pd.merge(df_제휴사, df6.drop(['고객번호', '이용일자', '이용시간', '이용금액', '채널'], axis=1), how='inner', on='구분코드')\n",
    "    # LPOINT 이용한 경우의 영수증 번호만 저장\n",
    "    lpoint_yes = list(df3_6['영수증_x'].drop_duplicates())\n",
    "    \n",
    "    # 3-1. LPOINT 사용 여부 칼럼 생성\n",
    "    df_제휴사['LPoint'] = [0] * len(df_제휴사)\n",
    "    idx = df_제휴사.loc[df_제휴사['영수증'].isin(lpoint_yes)].index\n",
    "    df_제휴사.loc[idx, 'LPoint'] = 1\n",
    "    print(\"df_제휴사와 df6이 성공적으로 merge 되었습니다.\")\n",
    "\n",
    "    # 3-2. LPoint 사용 안한 경우 남겨두기\n",
    "    lpointonly = list(set(df6['영수증']) - set(list(df3_6['영수증_y'].drop_duplicates())))\n",
    "    LP_wo3 = df6.loc[df6['영수증'].isin(lpointonly)]\n",
    "    print('LPoint without df3 생성 완료')\n",
    "\n",
    "    # 4. 휴일 column 추가 ('방문일자'가 토, 일, 공휴일이면 1, 아니면 0)\n",
    "    df_제휴사['휴일'] = df_제휴사['방문일자'].apply(lambda x: get_holidays(int(str(x)[:4]), int(str(x)[4:6]), int(str(x)[6:])))\n",
    "    \n",
    "    ## ---------------df_유통사 (df2 기준 merge)---------------\n",
    "    print('---------------df_유통사 (df2 기준 merge)---------------')\n",
    "    # 1. df1, df2를 \"고객번호\" 기준으로 merge\n",
    "    df_유통사 = pd.merge(df2, df1, how='inner', on='고객번호')\n",
    "\n",
    "    if(len(df_유통사) == len(df2)):\n",
    "        print(\"df1과 df2이 성공적으로 merge 되었습니다.\")\n",
    "    else:\n",
    "        print(\"!! df1과 df2 merge과정 확인 필요 !!\")\n",
    "\n",
    "    # 2. df_유통사, df4를 \"상품코드\" 기준으로 merge\n",
    "    test = pd.merge(df_유통사, df4, how='inner', on='상품코드')\n",
    "    if(len(test) == len(df_유통사)):\n",
    "        print(\"df_유통사 와 df4가 성공적으로 merge 되었습니다.\")\n",
    "        df_유통사 = test.copy()\n",
    "        del test\n",
    "    else:\n",
    "        print(\"!! df_유통사과 df4 merge과정 확인 필요 !!\")\n",
    "\n",
    "    # 3. df_유통사, df5를 \"점포코드\" 기준으로 merge\n",
    "    test = pd.merge(df_유통사, df5, how='left', on='점포코드') #점포코드에 null값있으므로 left join\n",
    "    if(len(test) == len(df_유통사)):\n",
    "        print(\"df_유통사 와 df5가 성공적으로 merge 되었습니다.\")\n",
    "        df_유통사 = test.copy()\n",
    "        del test\n",
    "    else:\n",
    "        print(\"!! df_유통사과 df5 merge과정 확인 필요 !!\")\n",
    "\n",
    "    # 4. df_유통사 + LPAY 이용 여부\n",
    "    df_유통사['구분코드'] = df_유통사['고객번호'] + df_유통사['이용일자'].astype('str') + df_유통사['이용시간'].astype('str') + df_유통사['이용금액'].astype('int').astype('str') + df_유통사['채널'].astype('str') + df_유통사['제휴사'].astype('str')\n",
    "    df6['구분코드'] = df6['고객번호'] + df6['이용일자'].astype('str') + df6['이용시간'].astype('str') + df6['이용금액'].astype('str') + df6['채널'].astype('str') + df6['제휴사'].astype('str')\n",
    "\n",
    "    # 구분코드가 완전히 동일한 경우한 merge한다\n",
    "    # merge된 경우만 확인하기 위해 inner join\n",
    "    df2_6 = pd.merge(df_유통사, df6.drop(['고객번호', '이용일자', '이용시간', '이용금액', '채널'], axis=1), how='inner', on='구분코드')\n",
    "\n",
    "    # LPOINT 이용한 경우의 영수증 번호만 저장\n",
    "    lpoint_yes = list(df2_6['영수증_x'].drop_duplicates())\n",
    "\n",
    "    # 4-1. LPOINT 사용 여부 칼럼 생성\n",
    "    df_유통사['LPoint'] = [0] * len(df_유통사)\n",
    "    idx = df_유통사.loc[df_유통사['영수증'].isin(lpoint_yes)].index\n",
    "    df_유통사.loc[idx, 'LPoint'] = 1\n",
    "    print(\"df_유통사와 df6이 성공적으로 merge 되었습니다.\")\n",
    "\n",
    "    # 4-2. LPoint 사용 안한 경우 남겨두기\n",
    "    lpointonly = list(set(df6['영수증']) - set(list(df3_6['영수증_y'].drop_duplicates())))\n",
    "    LP_wo2 = df6.loc[df6['영수증'].isin(lpointonly)]\n",
    "    print('LPoint without df2 생성 완료')\n",
    "    # 4. 휴일 column 추가 ('이용일자'가 토, 일, 공휴일이면 1, 아니면 0)\n",
    "    df_유통사['휴일'] = df_유통사['이용일자'].apply(lambda x: get_holidays(int(str(x)[:4]), int(str(x)[4:6]), int(str(x)[6:])))\n",
    "    \n",
    "    #'구분코드' 열 삭제\n",
    "    df_제휴사.drop('구분코드', axis=1, inplace = True)\n",
    "    df_유통사.drop('구분코드', axis=1, inplace = True)\n",
    "    LP_wo2.drop('구분코드', axis=1, inplace = True)\n",
    "    LP_wo3.drop('구분코드', axis=1, inplace = True)\n",
    "    \n",
    "    ## ---------------csv 파일로 저장---------------\n",
    "    df_제휴사.to_csv(os.path.join(save_dir, \"df_제휴사.csv\"), index=False)\n",
    "    df_제휴사.to_csv(os.path.join(save_dir, \"df_제휴사.csv\"), index=False)\n",
    "    df_유통사.to_csv(os.path.join(save_dir, \"df_유통사.csv\"), index=False)\n",
    "    LP_wo2.to_csv(os.path.join(save_dir, \"LP_wo2.csv\"), index=False)\n",
    "    LP_wo3.to_csv(os.path.join(save_dir, \"LP_wo3.csv\"), index=False)\n",
    "    print('데이터 파일이 저장되었습니다.')\n",
    "    \n",
    "    return df_제휴사, df_유통사, LP_wo2, LP_wo3 #생성된 dataframe을 바로 이용하는 경우를 위해,"
   ]
  },
  {
   "cell_type": "markdown",
   "id": "b2c9bd85",
   "metadata": {},
   "source": [
    "## [ f유통사_고객별 ]\n",
    "### 변수 설명\n",
    "- 입력 변수 설명\n",
    "    - df : df_유통사.csv 파일을 읽은 후 삽입\n",
    "- 출력 변수 설명\n",
    "    - merged : df_유통사_고객별"
   ]
  },
  {
   "cell_type": "code",
   "execution_count": 3,
   "id": "f29eb87e",
   "metadata": {},
   "outputs": [],
   "source": [
    "def f유통사_고객별(df):\n",
    "    df = df.sort_values('고객번호')\n",
    "    merged = df[['고객번호','성별','연령대','거주지']].drop_duplicates() # 고객정보\n",
    "\n",
    "    # LPoint ratio\n",
    "    LPoint = df[['고객번호', 'LPoint']].groupby('고객번호', as_index=False).mean()\n",
    "    merged = pd.merge(merged, LPoint, how='left', on='고객번호')\n",
    "    print('LPoint raio 완료')\n",
    "    \n",
    "    # 유통사 휴일\n",
    "    휴일 = df[['고객번호','휴일']].groupby('고객번호', as_index=False).mean()\n",
    "    merged = pd.merge(merged, 휴일, how='left', on='고객번호')\n",
    "    print('휴일 완료')\n",
    "\n",
    "    # 유통사 비율\n",
    "    test = pd.get_dummies(df[['고객번호', '유통사']], columns=['유통사'])\n",
    "    유통사 = test.groupby(['고객번호'], as_index=False).sum()\n",
    "    유통사['size'] = df.groupby(['고객번호'], as_index=False).size()['size']\n",
    "\n",
    "    if(sum(유통사['size']!=(유통사['유통사_A01']+유통사['유통사_A02']+유통사['유통사_A03']+유통사['유통사_A04']+유통사['유통사_A05']+유통사['유통사_A06']))==0):\n",
    "        # 제휴사가 nan 인 경우도 있음\n",
    "        유통사['유통사_A01'] = 유통사['유통사_A01']/유통사['size']\n",
    "        유통사['유통사_A02'] = 유통사['유통사_A02']/유통사['size']\n",
    "        유통사['유통사_A03'] = 유통사['유통사_A03']/유통사['size']\n",
    "        유통사['유통사_A04'] = 유통사['유통사_A04']/유통사['size']\n",
    "        유통사['유통사_A05'] = 유통사['유통사_A05']/유통사['size']\n",
    "        유통사['유통사_A06'] = 유통사['유통사_A06']/유통사['size']\n",
    "        유통사.drop('size', axis=1, inplace=True)\n",
    "        merged = pd.merge(merged, 유통사, how='left', on='고객번호')\n",
    "        print('유통사 완료')\n",
    "    else:\n",
    "        print('!!! 유통사 확인 필요')\n",
    "        display(유통사[유통사['size']!=(유통사['유통사_A01']+유통사['유통사_A02']+유통사['유통사_A03']+유통사['유통사_A04']+유통사['유통사_A05']+유통사['유통사_A06'])])\n",
    "        \n",
    "    ##----------------코드합침----------------\n",
    "    # 채널 비율 계산\n",
    "    test2 = pd.get_dummies(df[['고객번호', '채널']], columns=['채널'])\n",
    "\n",
    "    channel = test2.groupby(['고객번호'], as_index=False).sum()\n",
    "    channel['size'] = test2.groupby(['고객번호'], as_index=False).size()['size']\n",
    "    \n",
    "    # 계산이 제대로 되었는지 확인\n",
    "    if sum(channel['size'] != (channel['채널_1'] + channel['채널_2']))==0:\n",
    "        channel['채널_1'] = channel['채널_1'] / channel['size']\n",
    "        channel['채널_2'] = channel['채널_2'] / channel['size']\n",
    "        channel.drop(['size'], axis=1, inplace=True)\n",
    "        #display(channel)\n",
    "        merged = pd.merge(merged, channel, how='left', on='고객번호')\n",
    "        print('채널 완료')\n",
    "    else:\n",
    "        print('!! 채널 확인 필요')\n",
    "\n",
    "    # 이용일자\n",
    "    test2 = df[['고객번호', '이용일자']]\n",
    "    test2['계절'] = test2['이용일자'].apply(lambda x: (int(str(x)[4:6])//4)+1)\n",
    "\n",
    "    test2 = pd.get_dummies(test2, columns=['계절']).rename(columns={'계절_1':'봄', '계절_2':'여름', '계절_3':'가을', '계절_4':'겨울'})\n",
    "    test2.drop('이용일자', axis=1, inplace=True)\n",
    "    test2['봄'] = test2['봄'].astype('int')\n",
    "    test2['여름'] = test2['여름'].astype('int')\n",
    "    test2['가을'] = test2['가을'].astype('int')\n",
    "    test2['겨울'] = test2['겨울'].astype('int')\n",
    "    season = test2.groupby(['고객번호'], as_index=False).sum()\n",
    "    season['size'] = test2.groupby(['고객번호'], as_index=False).size()['size']\n",
    "\n",
    "    if sum(season['size']!=season['봄']+season['여름']+season['가을']+season['겨울'])==0:\n",
    "        season['봄'] = season['봄']/season['size']\n",
    "        season['여름'] = season['여름']/season['size']\n",
    "        season['가을'] = season['가을']/season['size']\n",
    "        season['겨울'] = season['겨울']/season['size']\n",
    "        season.drop('size', axis=1, inplace=True)\n",
    "        #display(season)\n",
    "\n",
    "        merged = pd.merge(merged, season, how='left', on='고객번호')\n",
    "        print('이용일자 -> 계절 완료')\n",
    "    else:\n",
    "        print('!!! 이용일자 확인 필요')\n",
    "\n",
    "    # 이용시간\n",
    "    test2 = df[['고객번호','이용시간']]\n",
    "    test2['이용시간'] = test2['이용시간'].apply(lambda x: (x//6)+1)\n",
    "\n",
    "    test2 = pd.get_dummies(test2, columns=['이용시간']).rename(columns={'이용시간_1':'새벽', '이용시간_2':'오전', '이용시간_3':'오후', '이용시간_4':'저녁'})\n",
    "    test2['새벽'] = test2['새벽'].astype('int')\n",
    "    test2['오전'] = test2['오전'].astype('int')\n",
    "    test2['오후'] = test2['오후'].astype('int')\n",
    "    test2['저녁'] = test2['저녁'].astype('int')\n",
    "    time = test2.groupby(['고객번호'], as_index=False).sum()\n",
    "    time['size'] = test2.groupby(['고객번호'], as_index=False).size()['size']\n",
    "    \n",
    "    if sum(time['size']!=time['새벽']+time['오전']+time['오후']+time['저녁'])==0:\n",
    "        time['새벽'] = time['새벽']/time['size']\n",
    "        time['오전'] = time['오전']/time['size']\n",
    "        time['오후'] = time['오후']/time['size']\n",
    "        time['저녁'] = time['저녁']/time['size']\n",
    "        #display(time)\n",
    "\n",
    "        merged = pd.merge(merged, time, how='left', on='고객번호')\n",
    "        print('시간대 변경 완료')\n",
    "    else:\n",
    "        print('!!! 시간대(계절) 확인 필요')\n",
    "\n",
    "    # 이용금액\n",
    "    test2 = df[['고객번호','이용금액']]\n",
    "    money = test2.groupby(['고객번호'], as_index=False).sum().rename(columns={'이용금액':'이용금액_총합'})\n",
    "    money['이용금액_평균'] = test2.groupby(['고객번호'], as_index=False).mean()['이용금액'].apply(lambda x: round(x, 2))\n",
    "    #display(money)\n",
    "    merged = pd.merge(merged, money, how='left', on='고객번호')\n",
    "    print('이용금액 총합/평균 계산 완료')\n",
    "    \n",
    "    merged['이용건수'] = time['size'].copy()\n",
    "\n",
    "    return merged        "
   ]
  },
  {
   "cell_type": "markdown",
   "id": "3c1d3ce1",
   "metadata": {},
   "source": [
    "## [ 제휴사_고객별 ]\n",
    "### 변수 설명\n",
    "- 입력 변수 설명\n",
    "    - df : df_제휴사.csv 파일을 읽은 후 삽입\n",
    "- 출력 변수 설명\n",
    "    - merged : df_제휴사_고객별"
   ]
  },
  {
   "cell_type": "code",
   "execution_count": 4,
   "id": "9e3122c9",
   "metadata": {},
   "outputs": [],
   "source": [
    "def f제휴사_고객별(df):\n",
    "    df = df.sort_values('고객번호')\n",
    "    merged = df[['고객번호','성별','연령대','거주지']].drop_duplicates() # 고객정보\n",
    "\n",
    "    # LPoint ratio\n",
    "    LPoint = df[['고객번호', 'LPoint']].groupby('고객번호', as_index=False).mean()\n",
    "    merged = pd.merge(merged, LPoint, how='left', on='고객번호')\n",
    "    print('LPoint raio 완료')\n",
    "    \n",
    "    # 제휴사 휴일\n",
    "    휴일 = df[['고객번호','휴일']].groupby('고객번호', as_index=False).mean()\n",
    "    merged = pd.merge(merged, 휴일, how='left', on='고객번호')\n",
    "    print('휴일 완료')\n",
    "\n",
    "    # 제휴사 비율 -> nan있음\n",
    "    test = df[['고객번호', '제휴사']]\n",
    "    test = pd.get_dummies(test, columns=['제휴사'])\n",
    "    test = test.groupby(['고객번호'], as_index=False).sum()\n",
    "    test['size'] = df.groupby(['고객번호'], as_index=False).size()['size']\n",
    "    test['제휴사_B'] = test['제휴사_B01']/test['size']\n",
    "    test['제휴사_C'] = (test['제휴사_C01']+test['제휴사_C02'])/test['size']\n",
    "    test['제휴사_D'] = (test['제휴사_D01']+test['제휴사_D02'])/test['size']\n",
    "    test['제휴사_E'] = test['제휴사_E01']/test['size']\n",
    "    test.drop('size', axis=1, inplace=True)\n",
    "    test.drop(['제휴사_B01', '제휴사_C01', '제휴사_C02', '제휴사_D01', '제휴사_D02', '제휴사_E01'], axis=1, inplace=True)\n",
    "\n",
    "    merged = pd.merge(merged, test, how='left', on='고객번호')\n",
    "    print('제휴사 완료')\n",
    "\n",
    "    ##-------코드합침--------\n",
    "    # 채널 비율 계산\n",
    "    test2 = pd.get_dummies(df[['고객번호', '채널']], columns=['채널'])\n",
    "\n",
    "    channel = test2.groupby(['고객번호'], as_index=False).sum()\n",
    "    channel['size'] = test2.groupby(['고객번호'], as_index=False).size()['size']\n",
    "    \n",
    "    # 계산이 제대로 되었는지 확인\n",
    "    if sum(channel['size'] != (channel['채널_1'] + channel['채널_2']))==0:\n",
    "        channel['채널_1'] = channel['채널_1'] / channel['size']\n",
    "        channel['채널_2'] = channel['채널_2'] / channel['size']\n",
    "        channel.drop(['size'], axis=1, inplace=True)\n",
    "        #display(channel)\n",
    "        \n",
    "        merged = pd.merge(merged, channel, how='left', on='고객번호')\n",
    "        print('채널 완료')\n",
    "    else:\n",
    "        print('!!! 채널 확인 필요')\n",
    "\n",
    "    # 이용일자\n",
    "    test2 = df[['고객번호', '이용일자']]\n",
    "    test2['계절'] = test2['이용일자'].apply(lambda x: (int(str(x)[4:6])//4)+1)\n",
    "\n",
    "    test2 = pd.get_dummies(test2, columns=['계절']).rename(columns={'계절_1':'봄', '계절_2':'여름', '계절_3':'가을', '계절_4':'겨울'})\n",
    "    test2['봄'] = test2['봄'].astype('int')\n",
    "    test2['여름'] = test2['여름'].astype('int')\n",
    "    test2['가을'] = test2['가을'].astype('int')\n",
    "    test2['겨울'] = test2['겨울'].astype('int')\n",
    "    test2.drop('이용일자', axis=1, inplace=True)\n",
    "\n",
    "    season = test2.groupby(['고객번호'], as_index=False).sum()\n",
    "    season['size'] = df.groupby(['고객번호'], as_index=False).size()['size']\n",
    "\n",
    "    if sum(season['size']!=(season['봄']+season['여름']+season['가을']+season['겨울']))==0:\n",
    "        season['봄'] = season['봄']/season['size']\n",
    "        season['여름'] = season['여름']/season['size']\n",
    "        season['가을'] = season['가을']/season['size']\n",
    "        season['겨울'] = season['겨울']/season['size']\n",
    "        season.drop('size', axis=1, inplace=True)\n",
    "        #display(season)\n",
    "\n",
    "        merged = pd.merge(merged, season, how='left', on='고객번호')\n",
    "        print('이용일자 -> 계절 완료')\n",
    "    else:\n",
    "        print('!!! 이용일자 확인 필요')\n",
    "        display(season[season['size']!=season['봄']+season['여름']+season['가을']+season['겨울']])\n",
    "\n",
    "    # 이용시간\n",
    "    test2 = df[['고객번호','이용시간']]\n",
    "    test2['이용시간'] = test2['이용시간'].apply(lambda x: (x//6)+1)\n",
    "\n",
    "    test2 = pd.get_dummies(test2, columns=['이용시간']).rename(columns={'이용시간_1':'새벽', '이용시간_2':'오전', '이용시간_3':'오후', '이용시간_4':'저녁'})\n",
    "    test2['새벽'] = test2['새벽'].astype('int')\n",
    "    test2['오전'] = test2['오전'].astype('int')\n",
    "    test2['오후'] = test2['오후'].astype('int')\n",
    "    test2['저녁'] = test2['저녁'].astype('int')\n",
    "    time = test2.groupby(['고객번호'], as_index=False).sum()\n",
    "    time['size'] = test2.groupby(['고객번호'], as_index=False).size()['size']\n",
    "\n",
    "    if sum(time['size']!=(time['새벽']+time['오전']+time['오후']+time['저녁']))==0:\n",
    "        time['새벽'] = time['새벽']/time['size']\n",
    "        time['오전'] = time['오전']/time['size']\n",
    "        time['오후'] = time['오후']/time['size']\n",
    "        time['저녁'] = time['저녁']/time['size']\n",
    "        #display(time)\n",
    "\n",
    "        merged = pd.merge(merged, time, how='left', on='고객번호')\n",
    "        print('시간대 변경 완료')\n",
    "    else:\n",
    "        print('!!! 이용시간 확인 필요')\n",
    "        display(time[time['size']!=(time['새벽']+time['오전']+time['오후']+time['저녁'])])\n",
    "\n",
    "    # 이용금액\n",
    "    test2 = df[['고객번호','이용금액']]\n",
    "    money = test2.groupby(['고객번호'], as_index=False).sum().rename(columns={'이용금액':'이용금액_총합'})\n",
    "    money['이용금액_평균'] = test2.groupby(['고객번호'], as_index=False).mean()['이용금액'].apply(lambda x: round(x, 2))\n",
    "    #display(money)\n",
    "    merged = pd.merge(merged, money, how='left', on='고객번호')\n",
    "    print('이용금액 총합/평균 계산 완료')\n",
    "    merged['이용건수'] = time['size'].copy()\n",
    "    \n",
    "    return merged"
   ]
  },
  {
   "cell_type": "markdown",
   "id": "e4fa440e",
   "metadata": {},
   "source": [
    "## [ 사용 예시 ]"
   ]
  },
  {
   "cell_type": "code",
   "execution_count": 5,
   "id": "5c717f44",
   "metadata": {},
   "outputs": [
    {
     "name": "stderr",
     "output_type": "stream",
     "text": [
      "C:\\Users\\Seohyeon\\AppData\\Local\\Temp/ipykernel_18048/2828033983.py:5: DtypeWarning: Columns (4) have mixed types.Specify dtype option on import or set low_memory=False.\n",
      "  df_제휴사, df_유통사, LP_wo2, LP_wo3 = df_making(data_dir, save_dir)\n"
     ]
    },
    {
     "name": "stdout",
     "output_type": "stream",
     "text": [
      "---------------df_제휴사 (df3 기준 merge)---------------\n",
      "df1과 df3이 성공적으로 merge 되었습니다.\n",
      "df_제휴사와 df5가 성공적으로 merge 되었습니다.\n",
      "df_제휴사와 df6이 성공적으로 merge 되었습니다.\n",
      "LPoint without df3 생성 완료\n",
      "---------------df_유통사 (df2 기준 merge)---------------\n",
      "df1과 df2이 성공적으로 merge 되었습니다.\n",
      "df_유통사 와 df4가 성공적으로 merge 되었습니다.\n",
      "df_유통사 와 df5가 성공적으로 merge 되었습니다.\n",
      "df_유통사와 df6이 성공적으로 merge 되었습니다.\n",
      "LPoint without df2 생성 완료\n"
     ]
    },
    {
     "name": "stderr",
     "output_type": "stream",
     "text": [
      "C:\\Users\\Seohyeon\\anaconda3\\lib\\site-packages\\pandas\\core\\frame.py:4906: SettingWithCopyWarning: \n",
      "A value is trying to be set on a copy of a slice from a DataFrame\n",
      "\n",
      "See the caveats in the documentation: https://pandas.pydata.org/pandas-docs/stable/user_guide/indexing.html#returning-a-view-versus-a-copy\n",
      "  return super().drop(\n"
     ]
    },
    {
     "name": "stdout",
     "output_type": "stream",
     "text": [
      "데이터 파일이 저장되었습니다.\n",
      "\n",
      " 소요시간 :  83 초\n"
     ]
    }
   ],
   "source": [
    "import time\n",
    "start = time.time()\n",
    "data_dir = \"../../Data/raw_data\"  # 데이터 들어있는 폴더 위치\n",
    "save_dir = \"../../Data\"           # 가공된 데이터 파일을 저장시킬 위치\n",
    "df_제휴사, df_유통사, LP_wo2, LP_wo3 = df_making(data_dir, save_dir)\n",
    "print('\\n 소요시간 : ', round(time.time()-start), '초')"
   ]
  },
  {
   "cell_type": "code",
   "execution_count": 6,
   "id": "df54f360",
   "metadata": {},
   "outputs": [
    {
     "name": "stdout",
     "output_type": "stream",
     "text": [
      "LPoint raio 완료\n",
      "휴일 완료\n",
      "유통사 완료\n",
      "채널 완료\n"
     ]
    },
    {
     "name": "stderr",
     "output_type": "stream",
     "text": [
      "C:\\Users\\Seohyeon\\AppData\\Local\\Temp/ipykernel_18048/20428370.py:55: SettingWithCopyWarning: \n",
      "A value is trying to be set on a copy of a slice from a DataFrame.\n",
      "Try using .loc[row_indexer,col_indexer] = value instead\n",
      "\n",
      "See the caveats in the documentation: https://pandas.pydata.org/pandas-docs/stable/user_guide/indexing.html#returning-a-view-versus-a-copy\n",
      "  test2['계절'] = test2['이용일자'].apply(lambda x: (int(str(x)[4:6])//4)+1)\n"
     ]
    },
    {
     "name": "stdout",
     "output_type": "stream",
     "text": [
      "이용일자 -> 계절 완료\n"
     ]
    },
    {
     "name": "stderr",
     "output_type": "stream",
     "text": [
      "C:\\Users\\Seohyeon\\AppData\\Local\\Temp/ipykernel_18048/20428370.py:81: SettingWithCopyWarning: \n",
      "A value is trying to be set on a copy of a slice from a DataFrame.\n",
      "Try using .loc[row_indexer,col_indexer] = value instead\n",
      "\n",
      "See the caveats in the documentation: https://pandas.pydata.org/pandas-docs/stable/user_guide/indexing.html#returning-a-view-versus-a-copy\n",
      "  test2['이용시간'] = test2['이용시간'].apply(lambda x: (x//6)+1)\n"
     ]
    },
    {
     "name": "stdout",
     "output_type": "stream",
     "text": [
      "시간대 변경 완료\n",
      "이용금액 총합/평균 계산 완료\n",
      "\n",
      " 소요시간 :  21 초\n"
     ]
    }
   ],
   "source": [
    "start = time.time()\n",
    "#df_유통사 = pd.read_csv('../../Data/df_유통사.csv')\n",
    "df_유통사_고객별 = f유통사_고객별(df_유통사)\n",
    "df_유통사_고객별.to_csv('../../Data/df_유통사_고객별.csv')\n",
    "print('\\n 소요시간 : ', round(time.time()-start), '초')"
   ]
  },
  {
   "cell_type": "code",
   "execution_count": 7,
   "id": "6ee4e859",
   "metadata": {},
   "outputs": [
    {
     "name": "stdout",
     "output_type": "stream",
     "text": [
      "LPoint raio 완료\n",
      "휴일 완료\n",
      "제휴사 완료\n",
      "채널 완료\n"
     ]
    },
    {
     "name": "stderr",
     "output_type": "stream",
     "text": [
      "C:\\Users\\Seohyeon\\AppData\\Local\\Temp/ipykernel_18048/2477246257.py:51: SettingWithCopyWarning: \n",
      "A value is trying to be set on a copy of a slice from a DataFrame.\n",
      "Try using .loc[row_indexer,col_indexer] = value instead\n",
      "\n",
      "See the caveats in the documentation: https://pandas.pydata.org/pandas-docs/stable/user_guide/indexing.html#returning-a-view-versus-a-copy\n",
      "  test2['계절'] = test2['이용일자'].apply(lambda x: (int(str(x)[4:6])//4)+1)\n",
      "C:\\Users\\Seohyeon\\AppData\\Local\\Temp/ipykernel_18048/2477246257.py:79: SettingWithCopyWarning: \n",
      "A value is trying to be set on a copy of a slice from a DataFrame.\n",
      "Try using .loc[row_indexer,col_indexer] = value instead\n",
      "\n",
      "See the caveats in the documentation: https://pandas.pydata.org/pandas-docs/stable/user_guide/indexing.html#returning-a-view-versus-a-copy\n",
      "  test2['이용시간'] = test2['이용시간'].apply(lambda x: (x//6)+1)\n"
     ]
    },
    {
     "name": "stdout",
     "output_type": "stream",
     "text": [
      "이용일자 -> 계절 완료\n",
      "시간대 변경 완료\n",
      "이용금액 총합/평균 계산 완료\n",
      "\n",
      " 소요시간 :  1 초\n"
     ]
    }
   ],
   "source": [
    "start = time.time()\n",
    "#df_제휴사 = pd.read_csv('../../Data/df_제휴사.csv')\n",
    "df_제휴사_고객별 = f제휴사_고객별(df_제휴사)\n",
    "df_제휴사_고객별.to_csv('../../Data/df_제휴사_고객별.csv')\n",
    "print('\\n 소요시간 : ', round(time.time()-start), '초')"
   ]
  },
  {
   "cell_type": "code",
   "execution_count": 8,
   "id": "30a461e6",
   "metadata": {
    "scrolled": false
   },
   "outputs": [
    {
     "data": {
      "text/plain": [
       "26917"
      ]
     },
     "execution_count": 8,
     "metadata": {},
     "output_type": "execute_result"
    }
   ],
   "source": [
    "len(df_유통사_고객별)"
   ]
  },
  {
   "cell_type": "code",
   "execution_count": 9,
   "id": "9110e2b8",
   "metadata": {
    "scrolled": true
   },
   "outputs": [
    {
     "data": {
      "text/plain": [
       "21769"
      ]
     },
     "execution_count": 9,
     "metadata": {},
     "output_type": "execute_result"
    }
   ],
   "source": [
    "len(df_제휴사_고객별)"
   ]
  },
  {
   "cell_type": "code",
   "execution_count": 10,
   "id": "a8cf1b2b",
   "metadata": {
    "scrolled": true
   },
   "outputs": [
    {
     "data": {
      "text/plain": [
       "26917"
      ]
     },
     "execution_count": 10,
     "metadata": {},
     "output_type": "execute_result"
    }
   ],
   "source": [
    "len(df_유통사['고객번호'].drop_duplicates())"
   ]
  },
  {
   "cell_type": "code",
   "execution_count": 11,
   "id": "d5c84f48",
   "metadata": {},
   "outputs": [
    {
     "data": {
      "text/plain": [
       "21769"
      ]
     },
     "execution_count": 11,
     "metadata": {},
     "output_type": "execute_result"
    }
   ],
   "source": [
    "len(df_제휴사['고객번호'].drop_duplicates())"
   ]
  },
  {
   "cell_type": "code",
   "execution_count": null,
   "id": "2f58be41",
   "metadata": {},
   "outputs": [],
   "source": []
  }
 ],
 "metadata": {
  "kernelspec": {
   "display_name": "Python 3 (ipykernel)",
   "language": "python",
   "name": "python3"
  },
  "language_info": {
   "codemirror_mode": {
    "name": "ipython",
    "version": 3
   },
   "file_extension": ".py",
   "mimetype": "text/x-python",
   "name": "python",
   "nbconvert_exporter": "python",
   "pygments_lexer": "ipython3",
   "version": "3.9.7"
  }
 },
 "nbformat": 4,
 "nbformat_minor": 5
}
