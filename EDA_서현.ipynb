{
 "cells": [
  {
   "cell_type": "code",
   "execution_count": 1,
   "id": "50cb5608",
   "metadata": {},
   "outputs": [],
   "source": [
    "import os\n",
    "import pandas as pd\n",
    "import matplotlib.pyplot as plt\n",
    "import numpy as np\n",
    "import math\n",
    "\n",
    "import seaborn as sns\n",
    "%matplotlib inline\n",
    "plt.rcParams['font.family'].insert(0, 'Malgun Gothic')\n",
    "sns.set(font=\"Malgun Gothic\", rc = {\"axes.unicode_minus\":False}, style='whitegrid')\n",
    "plt.rcParams[\"figure.figsize\"] = (15, 6)\n",
    "\n",
    "from tqdm import notebook\n",
    "import time"
   ]
  },
  {
   "cell_type": "code",
   "execution_count": 2,
   "id": "7f35e125",
   "metadata": {},
   "outputs": [
    {
     "data": {
      "text/plain": [
       "['raw_data']"
      ]
     },
     "execution_count": 2,
     "metadata": {},
     "output_type": "execute_result"
    }
   ],
   "source": [
    "filename = list()\n",
    "for f in os.listdir('../Data'):\n",
    "    filename.append(f)\n",
    "filename"
   ]
  },
  {
   "cell_type": "code",
   "execution_count": 3,
   "id": "b05ab3d2",
   "metadata": {
    "scrolled": true
   },
   "outputs": [
    {
     "ename": "PermissionError",
     "evalue": "[Errno 13] Permission denied: '../Data\\\\raw_data'",
     "output_type": "error",
     "traceback": [
      "\u001b[1;31m---------------------------------------------------------------------------\u001b[0m",
      "\u001b[1;31mPermissionError\u001b[0m                           Traceback (most recent call last)",
      "\u001b[1;32m~\\AppData\\Local\\Temp/ipykernel_12780/3172457014.py\u001b[0m in \u001b[0;36m<module>\u001b[1;34m\u001b[0m\n\u001b[1;32m----> 1\u001b[1;33m \u001b[0mDEMO\u001b[0m \u001b[1;33m=\u001b[0m \u001b[0mpd\u001b[0m\u001b[1;33m.\u001b[0m\u001b[0mread_csv\u001b[0m\u001b[1;33m(\u001b[0m\u001b[0mos\u001b[0m\u001b[1;33m.\u001b[0m\u001b[0mpath\u001b[0m\u001b[1;33m.\u001b[0m\u001b[0mjoin\u001b[0m\u001b[1;33m(\u001b[0m\u001b[1;34m'../Data'\u001b[0m\u001b[1;33m,\u001b[0m \u001b[0mfilename\u001b[0m\u001b[1;33m[\u001b[0m\u001b[1;36m0\u001b[0m\u001b[1;33m]\u001b[0m\u001b[1;33m)\u001b[0m\u001b[1;33m)\u001b[0m \u001b[1;31m#고객데모정보\u001b[0m\u001b[1;33m\u001b[0m\u001b[1;33m\u001b[0m\u001b[0m\n\u001b[0m\u001b[0;32m      2\u001b[0m \u001b[0mPDDE\u001b[0m \u001b[1;33m=\u001b[0m \u001b[0mpd\u001b[0m\u001b[1;33m.\u001b[0m\u001b[0mread_csv\u001b[0m\u001b[1;33m(\u001b[0m\u001b[0mos\u001b[0m\u001b[1;33m.\u001b[0m\u001b[0mpath\u001b[0m\u001b[1;33m.\u001b[0m\u001b[0mjoin\u001b[0m\u001b[1;33m(\u001b[0m\u001b[1;34m'../Data'\u001b[0m\u001b[1;33m,\u001b[0m \u001b[0mfilename\u001b[0m\u001b[1;33m[\u001b[0m\u001b[1;36m1\u001b[0m\u001b[1;33m]\u001b[0m\u001b[1;33m)\u001b[0m\u001b[1;33m)\u001b[0m \u001b[1;31m#유통사 상품 구매 내역\u001b[0m\u001b[1;33m\u001b[0m\u001b[1;33m\u001b[0m\u001b[0m\n\u001b[0;32m      3\u001b[0m \u001b[0mCOP_U\u001b[0m \u001b[1;33m=\u001b[0m \u001b[0mpd\u001b[0m\u001b[1;33m.\u001b[0m\u001b[0mread_csv\u001b[0m\u001b[1;33m(\u001b[0m\u001b[0mos\u001b[0m\u001b[1;33m.\u001b[0m\u001b[0mpath\u001b[0m\u001b[1;33m.\u001b[0m\u001b[0mjoin\u001b[0m\u001b[1;33m(\u001b[0m\u001b[1;34m'../Data'\u001b[0m\u001b[1;33m,\u001b[0m \u001b[0mfilename\u001b[0m\u001b[1;33m[\u001b[0m\u001b[1;36m2\u001b[0m\u001b[1;33m]\u001b[0m\u001b[1;33m)\u001b[0m\u001b[1;33m)\u001b[0m \u001b[1;31m#제휴사 서비스 이용 내역\u001b[0m\u001b[1;33m\u001b[0m\u001b[1;33m\u001b[0m\u001b[0m\n\u001b[0;32m      4\u001b[0m \u001b[0mPD_CLAC\u001b[0m \u001b[1;33m=\u001b[0m \u001b[0mpd\u001b[0m\u001b[1;33m.\u001b[0m\u001b[0mread_csv\u001b[0m\u001b[1;33m(\u001b[0m\u001b[0mos\u001b[0m\u001b[1;33m.\u001b[0m\u001b[0mpath\u001b[0m\u001b[1;33m.\u001b[0m\u001b[0mjoin\u001b[0m\u001b[1;33m(\u001b[0m\u001b[1;34m'../Data'\u001b[0m\u001b[1;33m,\u001b[0m \u001b[0mfilename\u001b[0m\u001b[1;33m[\u001b[0m\u001b[1;36m3\u001b[0m\u001b[1;33m]\u001b[0m\u001b[1;33m)\u001b[0m\u001b[1;33m)\u001b[0m \u001b[1;31m#유통사 상품 카테고리 마스터\u001b[0m\u001b[1;33m\u001b[0m\u001b[1;33m\u001b[0m\u001b[0m\n\u001b[0;32m      5\u001b[0m \u001b[0mBR\u001b[0m \u001b[1;33m=\u001b[0m \u001b[0mpd\u001b[0m\u001b[1;33m.\u001b[0m\u001b[0mread_csv\u001b[0m\u001b[1;33m(\u001b[0m\u001b[0mos\u001b[0m\u001b[1;33m.\u001b[0m\u001b[0mpath\u001b[0m\u001b[1;33m.\u001b[0m\u001b[0mjoin\u001b[0m\u001b[1;33m(\u001b[0m\u001b[1;34m'../Data'\u001b[0m\u001b[1;33m,\u001b[0m \u001b[0mfilename\u001b[0m\u001b[1;33m[\u001b[0m\u001b[1;36m4\u001b[0m\u001b[1;33m]\u001b[0m\u001b[1;33m)\u001b[0m\u001b[1;33m)\u001b[0m \u001b[1;31m#유통사/제휴사 점포 마스터\u001b[0m\u001b[1;33m\u001b[0m\u001b[1;33m\u001b[0m\u001b[0m\n",
      "\u001b[1;32m~\\anaconda3\\lib\\site-packages\\pandas\\util\\_decorators.py\u001b[0m in \u001b[0;36mwrapper\u001b[1;34m(*args, **kwargs)\u001b[0m\n\u001b[0;32m    309\u001b[0m                     \u001b[0mstacklevel\u001b[0m\u001b[1;33m=\u001b[0m\u001b[0mstacklevel\u001b[0m\u001b[1;33m,\u001b[0m\u001b[1;33m\u001b[0m\u001b[1;33m\u001b[0m\u001b[0m\n\u001b[0;32m    310\u001b[0m                 )\n\u001b[1;32m--> 311\u001b[1;33m             \u001b[1;32mreturn\u001b[0m \u001b[0mfunc\u001b[0m\u001b[1;33m(\u001b[0m\u001b[1;33m*\u001b[0m\u001b[0margs\u001b[0m\u001b[1;33m,\u001b[0m \u001b[1;33m**\u001b[0m\u001b[0mkwargs\u001b[0m\u001b[1;33m)\u001b[0m\u001b[1;33m\u001b[0m\u001b[1;33m\u001b[0m\u001b[0m\n\u001b[0m\u001b[0;32m    312\u001b[0m \u001b[1;33m\u001b[0m\u001b[0m\n\u001b[0;32m    313\u001b[0m         \u001b[1;32mreturn\u001b[0m \u001b[0mwrapper\u001b[0m\u001b[1;33m\u001b[0m\u001b[1;33m\u001b[0m\u001b[0m\n",
      "\u001b[1;32m~\\anaconda3\\lib\\site-packages\\pandas\\io\\parsers\\readers.py\u001b[0m in \u001b[0;36mread_csv\u001b[1;34m(filepath_or_buffer, sep, delimiter, header, names, index_col, usecols, squeeze, prefix, mangle_dupe_cols, dtype, engine, converters, true_values, false_values, skipinitialspace, skiprows, skipfooter, nrows, na_values, keep_default_na, na_filter, verbose, skip_blank_lines, parse_dates, infer_datetime_format, keep_date_col, date_parser, dayfirst, cache_dates, iterator, chunksize, compression, thousands, decimal, lineterminator, quotechar, quoting, doublequote, escapechar, comment, encoding, encoding_errors, dialect, error_bad_lines, warn_bad_lines, on_bad_lines, delim_whitespace, low_memory, memory_map, float_precision, storage_options)\u001b[0m\n\u001b[0;32m    584\u001b[0m     \u001b[0mkwds\u001b[0m\u001b[1;33m.\u001b[0m\u001b[0mupdate\u001b[0m\u001b[1;33m(\u001b[0m\u001b[0mkwds_defaults\u001b[0m\u001b[1;33m)\u001b[0m\u001b[1;33m\u001b[0m\u001b[1;33m\u001b[0m\u001b[0m\n\u001b[0;32m    585\u001b[0m \u001b[1;33m\u001b[0m\u001b[0m\n\u001b[1;32m--> 586\u001b[1;33m     \u001b[1;32mreturn\u001b[0m \u001b[0m_read\u001b[0m\u001b[1;33m(\u001b[0m\u001b[0mfilepath_or_buffer\u001b[0m\u001b[1;33m,\u001b[0m \u001b[0mkwds\u001b[0m\u001b[1;33m)\u001b[0m\u001b[1;33m\u001b[0m\u001b[1;33m\u001b[0m\u001b[0m\n\u001b[0m\u001b[0;32m    587\u001b[0m \u001b[1;33m\u001b[0m\u001b[0m\n\u001b[0;32m    588\u001b[0m \u001b[1;33m\u001b[0m\u001b[0m\n",
      "\u001b[1;32m~\\anaconda3\\lib\\site-packages\\pandas\\io\\parsers\\readers.py\u001b[0m in \u001b[0;36m_read\u001b[1;34m(filepath_or_buffer, kwds)\u001b[0m\n\u001b[0;32m    480\u001b[0m \u001b[1;33m\u001b[0m\u001b[0m\n\u001b[0;32m    481\u001b[0m     \u001b[1;31m# Create the parser.\u001b[0m\u001b[1;33m\u001b[0m\u001b[1;33m\u001b[0m\u001b[0m\n\u001b[1;32m--> 482\u001b[1;33m     \u001b[0mparser\u001b[0m \u001b[1;33m=\u001b[0m \u001b[0mTextFileReader\u001b[0m\u001b[1;33m(\u001b[0m\u001b[0mfilepath_or_buffer\u001b[0m\u001b[1;33m,\u001b[0m \u001b[1;33m**\u001b[0m\u001b[0mkwds\u001b[0m\u001b[1;33m)\u001b[0m\u001b[1;33m\u001b[0m\u001b[1;33m\u001b[0m\u001b[0m\n\u001b[0m\u001b[0;32m    483\u001b[0m \u001b[1;33m\u001b[0m\u001b[0m\n\u001b[0;32m    484\u001b[0m     \u001b[1;32mif\u001b[0m \u001b[0mchunksize\u001b[0m \u001b[1;32mor\u001b[0m \u001b[0miterator\u001b[0m\u001b[1;33m:\u001b[0m\u001b[1;33m\u001b[0m\u001b[1;33m\u001b[0m\u001b[0m\n",
      "\u001b[1;32m~\\anaconda3\\lib\\site-packages\\pandas\\io\\parsers\\readers.py\u001b[0m in \u001b[0;36m__init__\u001b[1;34m(self, f, engine, **kwds)\u001b[0m\n\u001b[0;32m    809\u001b[0m             \u001b[0mself\u001b[0m\u001b[1;33m.\u001b[0m\u001b[0moptions\u001b[0m\u001b[1;33m[\u001b[0m\u001b[1;34m\"has_index_names\"\u001b[0m\u001b[1;33m]\u001b[0m \u001b[1;33m=\u001b[0m \u001b[0mkwds\u001b[0m\u001b[1;33m[\u001b[0m\u001b[1;34m\"has_index_names\"\u001b[0m\u001b[1;33m]\u001b[0m\u001b[1;33m\u001b[0m\u001b[1;33m\u001b[0m\u001b[0m\n\u001b[0;32m    810\u001b[0m \u001b[1;33m\u001b[0m\u001b[0m\n\u001b[1;32m--> 811\u001b[1;33m         \u001b[0mself\u001b[0m\u001b[1;33m.\u001b[0m\u001b[0m_engine\u001b[0m \u001b[1;33m=\u001b[0m \u001b[0mself\u001b[0m\u001b[1;33m.\u001b[0m\u001b[0m_make_engine\u001b[0m\u001b[1;33m(\u001b[0m\u001b[0mself\u001b[0m\u001b[1;33m.\u001b[0m\u001b[0mengine\u001b[0m\u001b[1;33m)\u001b[0m\u001b[1;33m\u001b[0m\u001b[1;33m\u001b[0m\u001b[0m\n\u001b[0m\u001b[0;32m    812\u001b[0m \u001b[1;33m\u001b[0m\u001b[0m\n\u001b[0;32m    813\u001b[0m     \u001b[1;32mdef\u001b[0m \u001b[0mclose\u001b[0m\u001b[1;33m(\u001b[0m\u001b[0mself\u001b[0m\u001b[1;33m)\u001b[0m\u001b[1;33m:\u001b[0m\u001b[1;33m\u001b[0m\u001b[1;33m\u001b[0m\u001b[0m\n",
      "\u001b[1;32m~\\anaconda3\\lib\\site-packages\\pandas\\io\\parsers\\readers.py\u001b[0m in \u001b[0;36m_make_engine\u001b[1;34m(self, engine)\u001b[0m\n\u001b[0;32m   1038\u001b[0m             )\n\u001b[0;32m   1039\u001b[0m         \u001b[1;31m# error: Too many arguments for \"ParserBase\"\u001b[0m\u001b[1;33m\u001b[0m\u001b[1;33m\u001b[0m\u001b[0m\n\u001b[1;32m-> 1040\u001b[1;33m         \u001b[1;32mreturn\u001b[0m \u001b[0mmapping\u001b[0m\u001b[1;33m[\u001b[0m\u001b[0mengine\u001b[0m\u001b[1;33m]\u001b[0m\u001b[1;33m(\u001b[0m\u001b[0mself\u001b[0m\u001b[1;33m.\u001b[0m\u001b[0mf\u001b[0m\u001b[1;33m,\u001b[0m \u001b[1;33m**\u001b[0m\u001b[0mself\u001b[0m\u001b[1;33m.\u001b[0m\u001b[0moptions\u001b[0m\u001b[1;33m)\u001b[0m  \u001b[1;31m# type: ignore[call-arg]\u001b[0m\u001b[1;33m\u001b[0m\u001b[1;33m\u001b[0m\u001b[0m\n\u001b[0m\u001b[0;32m   1041\u001b[0m \u001b[1;33m\u001b[0m\u001b[0m\n\u001b[0;32m   1042\u001b[0m     \u001b[1;32mdef\u001b[0m \u001b[0m_failover_to_python\u001b[0m\u001b[1;33m(\u001b[0m\u001b[0mself\u001b[0m\u001b[1;33m)\u001b[0m\u001b[1;33m:\u001b[0m\u001b[1;33m\u001b[0m\u001b[1;33m\u001b[0m\u001b[0m\n",
      "\u001b[1;32m~\\anaconda3\\lib\\site-packages\\pandas\\io\\parsers\\c_parser_wrapper.py\u001b[0m in \u001b[0;36m__init__\u001b[1;34m(self, src, **kwds)\u001b[0m\n\u001b[0;32m     49\u001b[0m \u001b[1;33m\u001b[0m\u001b[0m\n\u001b[0;32m     50\u001b[0m         \u001b[1;31m# open handles\u001b[0m\u001b[1;33m\u001b[0m\u001b[1;33m\u001b[0m\u001b[0m\n\u001b[1;32m---> 51\u001b[1;33m         \u001b[0mself\u001b[0m\u001b[1;33m.\u001b[0m\u001b[0m_open_handles\u001b[0m\u001b[1;33m(\u001b[0m\u001b[0msrc\u001b[0m\u001b[1;33m,\u001b[0m \u001b[0mkwds\u001b[0m\u001b[1;33m)\u001b[0m\u001b[1;33m\u001b[0m\u001b[1;33m\u001b[0m\u001b[0m\n\u001b[0m\u001b[0;32m     52\u001b[0m         \u001b[1;32massert\u001b[0m \u001b[0mself\u001b[0m\u001b[1;33m.\u001b[0m\u001b[0mhandles\u001b[0m \u001b[1;32mis\u001b[0m \u001b[1;32mnot\u001b[0m \u001b[1;32mNone\u001b[0m\u001b[1;33m\u001b[0m\u001b[1;33m\u001b[0m\u001b[0m\n\u001b[0;32m     53\u001b[0m \u001b[1;33m\u001b[0m\u001b[0m\n",
      "\u001b[1;32m~\\anaconda3\\lib\\site-packages\\pandas\\io\\parsers\\base_parser.py\u001b[0m in \u001b[0;36m_open_handles\u001b[1;34m(self, src, kwds)\u001b[0m\n\u001b[0;32m    220\u001b[0m         \u001b[0mLet\u001b[0m \u001b[0mthe\u001b[0m \u001b[0mreaders\u001b[0m \u001b[0mopen\u001b[0m \u001b[0mIOHandles\u001b[0m \u001b[0mafter\u001b[0m \u001b[0mthey\u001b[0m \u001b[0mare\u001b[0m \u001b[0mdone\u001b[0m \u001b[1;32mwith\u001b[0m \u001b[0mtheir\u001b[0m \u001b[0mpotential\u001b[0m \u001b[0mraises\u001b[0m\u001b[1;33m.\u001b[0m\u001b[1;33m\u001b[0m\u001b[1;33m\u001b[0m\u001b[0m\n\u001b[0;32m    221\u001b[0m         \"\"\"\n\u001b[1;32m--> 222\u001b[1;33m         self.handles = get_handle(\n\u001b[0m\u001b[0;32m    223\u001b[0m             \u001b[0msrc\u001b[0m\u001b[1;33m,\u001b[0m\u001b[1;33m\u001b[0m\u001b[1;33m\u001b[0m\u001b[0m\n\u001b[0;32m    224\u001b[0m             \u001b[1;34m\"r\"\u001b[0m\u001b[1;33m,\u001b[0m\u001b[1;33m\u001b[0m\u001b[1;33m\u001b[0m\u001b[0m\n",
      "\u001b[1;32m~\\anaconda3\\lib\\site-packages\\pandas\\io\\common.py\u001b[0m in \u001b[0;36mget_handle\u001b[1;34m(path_or_buf, mode, encoding, compression, memory_map, is_text, errors, storage_options)\u001b[0m\n\u001b[0;32m    700\u001b[0m         \u001b[1;32mif\u001b[0m \u001b[0mioargs\u001b[0m\u001b[1;33m.\u001b[0m\u001b[0mencoding\u001b[0m \u001b[1;32mand\u001b[0m \u001b[1;34m\"b\"\u001b[0m \u001b[1;32mnot\u001b[0m \u001b[1;32min\u001b[0m \u001b[0mioargs\u001b[0m\u001b[1;33m.\u001b[0m\u001b[0mmode\u001b[0m\u001b[1;33m:\u001b[0m\u001b[1;33m\u001b[0m\u001b[1;33m\u001b[0m\u001b[0m\n\u001b[0;32m    701\u001b[0m             \u001b[1;31m# Encoding\u001b[0m\u001b[1;33m\u001b[0m\u001b[1;33m\u001b[0m\u001b[0m\n\u001b[1;32m--> 702\u001b[1;33m             handle = open(\n\u001b[0m\u001b[0;32m    703\u001b[0m                 \u001b[0mhandle\u001b[0m\u001b[1;33m,\u001b[0m\u001b[1;33m\u001b[0m\u001b[1;33m\u001b[0m\u001b[0m\n\u001b[0;32m    704\u001b[0m                 \u001b[0mioargs\u001b[0m\u001b[1;33m.\u001b[0m\u001b[0mmode\u001b[0m\u001b[1;33m,\u001b[0m\u001b[1;33m\u001b[0m\u001b[1;33m\u001b[0m\u001b[0m\n",
      "\u001b[1;31mPermissionError\u001b[0m: [Errno 13] Permission denied: '../Data\\\\raw_data'"
     ]
    }
   ],
   "source": [
    "DEMO = pd.read_csv(os.path.join('../Data', filename[0])) #고객데모정보\n",
    "PDDE = pd.read_csv(os.path.join('../Data', filename[1])) #유통사 상품 구매 내역\n",
    "COP_U = pd.read_csv(os.path.join('../Data', filename[2])) #제휴사 서비스 이용 내역\n",
    "PD_CLAC = pd.read_csv(os.path.join('../Data', filename[3])) #유통사 상품 카테고리 마스터\n",
    "BR = pd.read_csv(os.path.join('../Data', filename[4])) #유통사/제휴사 점포 마스터\n",
    "LPAY = pd.read_csv(os.path.join('../Data', filename[5])) #엘페이 결제 내역"
   ]
  },
  {
   "cell_type": "code",
   "execution_count": null,
   "id": "3e2c5f21",
   "metadata": {},
   "outputs": [],
   "source": [
    "DEMO.rename(columns={'cust':'고객번호', 'ma_fem_dv':'성별', 'ages':'연령대', 'zon_hlv':'거주지'}, inplace=True)\n",
    "PDDE.rename(columns={'cust':'고객번호', 'rct_no':'영수증', 'chnl_dv':'채널', 'cop_c':'제휴사', 'pd_c':'상품코드', 'br_c':'점포코드', 'de_dt':'이용일자', 'de_hr':'이용시간', 'buy_am':'이용금액', 'buy_ct':'구매수량'}, inplace=True)\n",
    "COP_U.rename(columns={'cust':'고객번호', 'rct_no':'영수증', 'cop_c':'제휴사', 'br_c':'점포코드', 'de_dt':'이용일자', 'vst_dt':'방문일자', 'de_hr':'이용시간', 'buy_am':'이용금액', 'chnl_dv':'채널'}, inplace=True)\n",
    "PD_CLAC.rename(columns={'pd_c':'상품코드', 'pd_nm':'소분류', 'clac_hlv_nm':'대분류', 'clac_mcls_nm':'중분류'}, inplace=True)\n",
    "BR.rename(columns={'br_c':'점포_코드', 'cop_c':'제휴사', 'zon_hlv':'점포_대분류', 'zon_mcls':'점포_중분류', 'chnl_dv':'채널'}, inplace=True)\n",
    "LPAY.rename(columns={'cust':'고객번호', 'cop_c':'제휴사', 'rct_no':'영수증', 'de_dt':'이용일자', 'de_hr':'이용시간', 'buy_am':'이용금액', 'chnl_dv':'채널'}, inplace=True)"
   ]
  },
  {
   "cell_type": "code",
   "execution_count": null,
   "id": "b691a5d2",
   "metadata": {},
   "outputs": [],
   "source": [
    "COP_U_D = COP_U[(COP_U['제휴사']=='D01') | (COP_U['제휴사']=='D02')]\n",
    "BR_D = BR[(BR['제휴사']=='D01') | (BR['제휴사']=='D02')]\n",
    "LPAY_D = LPAY[(LPAY['제휴사']=='D01') | (LPAY['제휴사']=='D02')]"
   ]
  },
  {
   "cell_type": "markdown",
   "id": "bce2ff4d",
   "metadata": {},
   "source": [
    "## 데이터 살펴보자"
   ]
  },
  {
   "cell_type": "code",
   "execution_count": null,
   "id": "90563ac3",
   "metadata": {
    "scrolled": false
   },
   "outputs": [],
   "source": [
    "DEMO #1. 고객데모정보"
   ]
  },
  {
   "cell_type": "code",
   "execution_count": null,
   "id": "6346c451",
   "metadata": {},
   "outputs": [],
   "source": [
    "PDDE #2. 유통사 상품 구매 내역"
   ]
  },
  {
   "cell_type": "code",
   "execution_count": null,
   "id": "24b377a5",
   "metadata": {},
   "outputs": [],
   "source": [
    "COP_U"
   ]
  },
  {
   "cell_type": "code",
   "execution_count": null,
   "id": "1fc0ad64",
   "metadata": {},
   "outputs": [],
   "source": [
    "len('A01 0 5920171 5')#1 DEMO"
   ]
  },
  {
   "cell_type": "code",
   "execution_count": null,
   "id": "76700d97",
   "metadata": {},
   "outputs": [],
   "source": [
    "len('211010 09 D01 5920171') \n",
    "#3"
   ]
  },
  {
   "cell_type": "code",
   "execution_count": null,
   "id": "8cbb3bb3",
   "metadata": {},
   "outputs": [],
   "source": [
    "len('210803 21 03 11226')#6 LPAY"
   ]
  },
  {
   "cell_type": "code",
   "execution_count": null,
   "id": "20409107",
   "metadata": {
    "scrolled": false
   },
   "outputs": [],
   "source": [
    "LPAY"
   ]
  },
  {
   "cell_type": "code",
   "execution_count": null,
   "id": "142df8ec",
   "metadata": {
    "scrolled": true
   },
   "outputs": [],
   "source": [
    "PDDE[PDDE['영수증'].str.contains('5920171')]"
   ]
  },
  {
   "cell_type": "code",
   "execution_count": null,
   "id": "997f0664",
   "metadata": {},
   "outputs": [],
   "source": [
    "DEMO[DEMO['고객번호']=='M848023775']"
   ]
  },
  {
   "cell_type": "code",
   "execution_count": null,
   "id": "4af9975f",
   "metadata": {},
   "outputs": [],
   "source": [
    "LPAY_D['영수증'] = LPAY_D['영수증'].astype('str')\n",
    "LPAY_D[LPAY_D['영수증'].str.contains('5920171')]"
   ]
  },
  {
   "cell_type": "code",
   "execution_count": null,
   "id": "23fa294a",
   "metadata": {},
   "outputs": [],
   "source": [
    "LPAY_D[LPAY_D['고객번호'].str.contains('M848023775')]"
   ]
  },
  {
   "cell_type": "code",
   "execution_count": null,
   "id": "4af50122",
   "metadata": {},
   "outputs": [],
   "source": []
  },
  {
   "cell_type": "code",
   "execution_count": null,
   "id": "8bbe6ffb",
   "metadata": {},
   "outputs": [],
   "source": []
  },
  {
   "cell_type": "code",
   "execution_count": null,
   "id": "27238cbd",
   "metadata": {},
   "outputs": [],
   "source": []
  },
  {
   "cell_type": "code",
   "execution_count": null,
   "id": "5ebb816f",
   "metadata": {},
   "outputs": [],
   "source": []
  },
  {
   "cell_type": "code",
   "execution_count": null,
   "id": "bbde554a",
   "metadata": {},
   "outputs": [],
   "source": []
  },
  {
   "cell_type": "code",
   "execution_count": null,
   "id": "6d2ac568",
   "metadata": {
    "scrolled": true
   },
   "outputs": [],
   "source": [
    "COP_U_D #3. 제휴사 서비스 이용 내역"
   ]
  },
  {
   "cell_type": "code",
   "execution_count": null,
   "id": "98c34476",
   "metadata": {},
   "outputs": [],
   "source": [
    "PD_CLAC #4. 유통사 상품 카테고리 마스터"
   ]
  },
  {
   "cell_type": "code",
   "execution_count": null,
   "id": "fdc7bca4",
   "metadata": {
    "scrolled": true
   },
   "outputs": [],
   "source": [
    "print('-----------대분류-----------\\n', set(PD_CLAC['대분류']))\n",
    "print('\\n-----------중분류-----------\\n', set(PD_CLAC['중분류']))\n",
    "print('\\n-----------소분류-----------\\n', set(PD_CLAC['소분류']))"
   ]
  },
  {
   "cell_type": "markdown",
   "id": "3ba660fc",
   "metadata": {},
   "source": [
    "미쳤나 개많네"
   ]
  },
  {
   "cell_type": "code",
   "execution_count": null,
   "id": "b0d78404",
   "metadata": {},
   "outputs": [],
   "source": [
    "BR_D #5. 유통사/제휴사 점포 마스터"
   ]
  },
  {
   "cell_type": "code",
   "execution_count": null,
   "id": "643d207d",
   "metadata": {},
   "outputs": [],
   "source": [
    "print('-----------점포_대분류-----------\\n', sorted(set(BR_D['점포_대분류'])))\n",
    "print('\\n-----------점포_중분류-----------\\n', sorted(set(BR_D['점포_중분류'])))"
   ]
  },
  {
   "cell_type": "code",
   "execution_count": null,
   "id": "440c2791",
   "metadata": {
    "scrolled": false
   },
   "outputs": [],
   "source": [
    "LPAY_D #6.엘페이 결제 내역"
   ]
  },
  {
   "cell_type": "markdown",
   "id": "c63666e6",
   "metadata": {},
   "source": [
    "## 제휴사 이용 정보 + 고객데모정보"
   ]
  },
  {
   "cell_type": "code",
   "execution_count": null,
   "id": "42dd37a8",
   "metadata": {},
   "outputs": [],
   "source": [
    "COP_U_D2 = COP_U_D[]"
   ]
  },
  {
   "cell_type": "code",
   "execution_count": null,
   "id": "f18663d8",
   "metadata": {},
   "outputs": [],
   "source": [
    "df2 = pd.concat(COP_U_D, LPAY_D, how='left',on='영수증')\n",
    "df2"
   ]
  },
  {
   "cell_type": "code",
   "execution_count": null,
   "id": "a36051a2",
   "metadata": {
    "scrolled": false
   },
   "outputs": [],
   "source": [
    "df = pd.merge(COP_U_D, DEMO, how='left',on='고객번호')\n",
    "df"
   ]
  },
  {
   "cell_type": "code",
   "execution_count": null,
   "id": "5cc0b5fb",
   "metadata": {},
   "outputs": [],
   "source": [
    "set(df['연령대'])"
   ]
  },
  {
   "cell_type": "code",
   "execution_count": null,
   "id": "5f71e379",
   "metadata": {},
   "outputs": [],
   "source": [
    "df['연령대'] = df['연령대'].apply(lambda x: int(x[:-1]))\n",
    "set(df['연령대'])"
   ]
  },
  {
   "cell_type": "code",
   "execution_count": null,
   "id": "f1de5714",
   "metadata": {},
   "outputs": [],
   "source": [
    "df[df['이용일자']!=df['방문일자']]"
   ]
  },
  {
   "cell_type": "markdown",
   "id": "1ee5c761",
   "metadata": {},
   "source": [
    "이용일자와 방문일자가 다른 경우는 없었고,,"
   ]
  },
  {
   "cell_type": "code",
   "execution_count": null,
   "id": "9ac307d7",
   "metadata": {},
   "outputs": [],
   "source": [
    "#이용일자를 월/분기별로\n",
    "df['이용월'] = df['이용일자'].apply(lambda x:int(str(x)[4:6]))\n",
    "df['분기'] = df['이용일자'].apply(lambda x: (int(str(x)[4:6])//3) if (int(str(x)[4:6])%3)==0 else (int(str(x)[4:6])//3) + 1)"
   ]
  },
  {
   "cell_type": "markdown",
   "id": "d32b0c89",
   "metadata": {},
   "source": [
    "## 상관도를 알아보자"
   ]
  },
  {
   "cell_type": "code",
   "execution_count": null,
   "id": "1ac7f90b",
   "metadata": {
    "scrolled": true
   },
   "outputs": [],
   "source": [
    "heatmap_df = df[['채널', '분기', '이용금액', '성별']]\n",
    "heatmap_df['성별'] = heatmap_df['성별'].apply(lambda x: 1 if x=='남성' else 2)"
   ]
  },
  {
   "cell_type": "code",
   "execution_count": null,
   "id": "7f11d97f",
   "metadata": {},
   "outputs": [],
   "source": [
    "#연령대를 dummy변수로\n",
    "heatmap_df.loc[:, '20대'] = df['연령대']\n",
    "heatmap_df.loc[:, '30대'] = df['연령대']\n",
    "heatmap_df.loc[:, '40대'] = df['연령대']\n",
    "heatmap_df.loc[:, '50대'] = df['연령대']\n",
    "heatmap_df.loc[:, '60대'] = df['연령대']\n",
    "heatmap_df.loc[:, '70대'] = df['연령대']\n",
    "heatmap_df.replace({'20대':{20:1, 30:0, 40:0, 50:0, 60:0, 70:0},\n",
    "                   '30대':{20:0, 30:1, 40:0, 50:0, 60:0, 70:0},\n",
    "                   '40대':{20:0, 30:0, 40:1, 50:0, 60:0, 70:0},\n",
    "                   '50대':{20:0, 30:0, 40:0, 50:1, 60:0, 70:0},\n",
    "                   '60대':{20:0, 30:0, 40:0, 50:0, 60:1, 70:0},\n",
    "                   '70대':{20:0, 30:0, 40:0, 50:0, 60:0, 70:1}}, inplace = True)"
   ]
  },
  {
   "cell_type": "code",
   "execution_count": null,
   "id": "2ec2e1cf",
   "metadata": {},
   "outputs": [],
   "source": [
    "heatmap_df"
   ]
  },
  {
   "cell_type": "code",
   "execution_count": null,
   "id": "3cf20fc8",
   "metadata": {},
   "outputs": [],
   "source": [
    "heatmap_df.astype(float).corr()"
   ]
  },
  {
   "cell_type": "code",
   "execution_count": null,
   "id": "f0d984af",
   "metadata": {
    "scrolled": false
   },
   "outputs": [],
   "source": [
    "#colormap = plt.cm.PuBu \n",
    "plt.figure(figsize=(10, 10)) \n",
    "plt.title(\"Correlation\", y = 1.05, size = 15) \n",
    "sns.heatmap(heatmap_df.astype(float).corr() , linewidths = 0.1, vmax = 1.0, \n",
    "            square = True, linecolor = \"white\", annot = True, annot_kws = {\"size\" : 12})\n"
   ]
  },
  {
   "cell_type": "markdown",
   "id": "b0d48e2f",
   "metadata": {},
   "source": [
    "머 이런 쓰레기상관도가..."
   ]
  },
  {
   "cell_type": "code",
   "execution_count": null,
   "id": "4e1fdf39",
   "metadata": {},
   "outputs": [],
   "source": [
    "heatmap_df2 = heatmap_df.copy()\n",
    "heatmap_df2['이용금액'] = np.log(heatmap_df2['이용금액'])"
   ]
  },
  {
   "cell_type": "code",
   "execution_count": null,
   "id": "13ffc7d0",
   "metadata": {},
   "outputs": [],
   "source": [
    "heatmap_df2"
   ]
  },
  {
   "cell_type": "code",
   "execution_count": null,
   "id": "fcf4802c",
   "metadata": {
    "scrolled": false
   },
   "outputs": [],
   "source": [
    "#colormap = plt.cm.PuBu \n",
    "plt.figure(figsize=(10, 10)) \n",
    "plt.title(\"Correlation\", y = 1.05, size = 15) \n",
    "sns.heatmap(heatmap_df2.astype(float).corr() , linewidths = 0.1, vmax = 1.0, \n",
    "            square = True, linecolor = \"white\", annot = True, annot_kws = {\"size\" : 12})"
   ]
  },
  {
   "cell_type": "markdown",
   "id": "c1505004",
   "metadata": {},
   "source": [
    "아 일단 넘어간다"
   ]
  },
  {
   "cell_type": "markdown",
   "id": "622714c5",
   "metadata": {},
   "source": [
    "## 그래프 그리자"
   ]
  },
  {
   "cell_type": "code",
   "execution_count": null,
   "id": "9c786682",
   "metadata": {},
   "outputs": [],
   "source": [
    "df.columns"
   ]
  },
  {
   "cell_type": "code",
   "execution_count": null,
   "id": "d7b40787",
   "metadata": {},
   "outputs": [],
   "source": [
    "# 이용금액 단위 변경 (천원)\n",
    "df['이용금액'] = df['이용금액']/1000"
   ]
  },
  {
   "cell_type": "markdown",
   "id": "266c9024",
   "metadata": {},
   "source": [
    "### 월별 이용 데이터"
   ]
  },
  {
   "cell_type": "code",
   "execution_count": null,
   "id": "f1257866",
   "metadata": {
    "scrolled": false
   },
   "outputs": [],
   "source": [
    "df_월별_수= df[['이용월']].groupby(['이용월'], as_index=False).size()\n",
    "df_월별_수"
   ]
  },
  {
   "cell_type": "code",
   "execution_count": null,
   "id": "04bac6a7",
   "metadata": {},
   "outputs": [],
   "source": [
    "sum(df_월별_수['size'])"
   ]
  },
  {
   "cell_type": "code",
   "execution_count": null,
   "id": "b3557846",
   "metadata": {},
   "outputs": [],
   "source": [
    "len(df)"
   ]
  },
  {
   "cell_type": "code",
   "execution_count": null,
   "id": "5654fd19",
   "metadata": {},
   "outputs": [],
   "source": [
    "#월별 이용 확인\n",
    "df_월별_합 = df[['이용월', '이용금액']].groupby(['이용월'], as_index=False).sum()\n",
    "df_월별_평균 = df[['이용월', '이용금액']].groupby(['이용월'], as_index=False).mean()\n",
    "df_월별_수= df[['이용월']].groupby(['이용월'], as_index=False).size()\n",
    "\n",
    "df_월별_합.plot(x='이용월', y='이용금액', kind='bar', title='월별 총 이용금액', color = sns.color_palette('PuRd'))\n",
    "df_월별_평균.plot(x='이용월', y='이용금액', kind='bar', title='월별 평균 이용금액', color = sns.color_palette('PuRd'))\n",
    "df_월별_수.plot(x='이용월', y='size', kind='bar', title='월별 이용 빈도', color = sns.color_palette('PuRd'))"
   ]
  },
  {
   "cell_type": "markdown",
   "id": "536d2ccf",
   "metadata": {},
   "source": [
    "### 분기별 이용데이터"
   ]
  },
  {
   "cell_type": "code",
   "execution_count": null,
   "id": "b3a66422",
   "metadata": {},
   "outputs": [],
   "source": [
    "#분기별 이용 확인\n",
    "df_분기별_합 = df[['분기', '이용금액']].groupby(['분기'], as_index=False).sum()\n",
    "df_분기별_평균 = df[['분기', '이용금액']].groupby(['분기'], as_index=False).mean()\n",
    "df_분기별_수= df[['분기']].groupby(['분기'], as_index=False).size()\n",
    "\n",
    "df_분기별_합.plot(x='분기', y='이용금액', kind='bar', title='분기별 총 이용금액', color = sns.color_palette('PuRd'))\n",
    "df_분기별_평균.plot(x='분기', y='이용금액', kind='bar', title='분기별 평균 이용금액', color = sns.color_palette('PuRd'))\n",
    "df_분기별_수.plot(x='분기', y='size', kind='bar', title='분기별 이용 빈도', color = sns.color_palette('PuRd'))"
   ]
  },
  {
   "cell_type": "markdown",
   "id": "30df7e84",
   "metadata": {},
   "source": [
    "## 채널별"
   ]
  },
  {
   "cell_type": "code",
   "execution_count": null,
   "id": "d9fa723a",
   "metadata": {},
   "outputs": [],
   "source": [
    "df_채널별_합 = df[['채널', '이용금액']].groupby(['채널'], as_index=False).sum()\n",
    "df_채널별_평균 = df[['채널', '이용금액']].groupby(['채널'], as_index=False).mean()\n",
    "df_채널별_수= df[['채널']].groupby(['채널'], as_index=False).size()\n",
    "\n",
    "df_채널별_합.plot(x='채널', y='이용금액', kind='bar', title='채널별 총 이용금액', color = sns.color_palette('PuRd'))\n",
    "df_채널별_평균.plot(x='채널', y='이용금액', kind='bar', title='채널별 평균 이용금액', color = sns.color_palette('PuRd'))\n",
    "df_채널별_수.plot(x='채널', y='size', kind='bar', title='채널별 이용 빈도', color = sns.color_palette('PuRd'))"
   ]
  },
  {
   "cell_type": "markdown",
   "id": "3493d1b5",
   "metadata": {},
   "source": [
    "채널이 다 online뿐,, 그냥 offline 없이 하자~~~~"
   ]
  },
  {
   "cell_type": "markdown",
   "id": "433e531b",
   "metadata": {},
   "source": [
    "## 이용시간별"
   ]
  },
  {
   "cell_type": "code",
   "execution_count": null,
   "id": "1537b15f",
   "metadata": {},
   "outputs": [],
   "source": [
    "df_이용시간별_합 = df[['이용시간', '이용금액']].groupby(['이용시간'], as_index=False).sum()\n",
    "#df_이용시간별_평균 = df[['이용시간', '이용금액']].groupby(['이용시간'], as_index=False).mean()\n",
    "df_이용시간별_수= df[['이용시간']].groupby(['이용시간'], as_index=False).size()\n",
    "\n",
    "df_이용시간별_합.plot(x='이용시간', y='이용금액', kind='bar', title='이용시간별 총 이용금액', color = sns.color_palette('PuRd'))\n",
    "#df_이용시간별_평균.plot(x='이용시간', y='이용금액', kind='bar', title='이용시간별 평균 이용금액', color = sns.color_palette('PuRd'))\n",
    "df_이용시간별_수.plot(x='이용시간', y='size', kind='bar', title='이용시간별 이용 빈도', color = sns.color_palette('PuRd'))"
   ]
  },
  {
   "cell_type": "markdown",
   "id": "81af7af2",
   "metadata": {},
   "source": [
    "### 연령대별"
   ]
  },
  {
   "cell_type": "code",
   "execution_count": null,
   "id": "20f69b4c",
   "metadata": {},
   "outputs": [],
   "source": [
    "heatmap_df = df[['연령대', '이용시간', '이용금액']]\n",
    "heatmap_df\n",
    "#colormap = plt.cm.PuBu \n",
    "plt.figure(figsize=(10, 10)) \n",
    "plt.title(\"Correlation\", y = 1.05, size = 15) \n",
    "sns.heatmap(heatmap_df.astype(float).corr() , linewidths = 0.1, vmax = 1.0, \n",
    "            square = True, linecolor = \"white\", annot = True, annot_kws = {\"size\" : 12})"
   ]
  },
  {
   "cell_type": "code",
   "execution_count": null,
   "id": "25a46a1c",
   "metadata": {},
   "outputs": [],
   "source": [
    "df"
   ]
  },
  {
   "cell_type": "code",
   "execution_count": null,
   "id": "685bda89",
   "metadata": {},
   "outputs": [],
   "source": [
    "df_연령대별_합 = df[['연령대', '이용금액']].groupby(['연령대'], as_index=False).sum()\n",
    "#df_연령대별_평균 = df[['연령대', '이용금액']].groupby(['연령대'], as_index=False).mean()\n",
    "#df_연령대별_수= df[['연령대']].groupby(['연령대'], as_index=False).size()\n",
    "\n",
    "df_연령대별_합.plot(x='연령대', y='이용금액', kind='bar', title='연령대별 총 이용금액', color = sns.color_palette('PuRd'))\n",
    "#df_연령대별_평균.plot(x='연령대', y='이용금액', kind='bar', title='연령대별 평균 이용금액', color = sns.color_palette('PuRd'))\n",
    "#df_연령대별_수.plot(x='연령대', y='size', kind='bar', title='연령대별 이용 빈도', color = sns.color_palette('PuRd'))"
   ]
  },
  {
   "cell_type": "code",
   "execution_count": null,
   "id": "fbd66dde",
   "metadata": {},
   "outputs": [],
   "source": [
    "#연령대별 시간대\n",
    "df_연령대_시간 = df[['연령대', '이용시간', '이용금액']].groupby(['연령대','이용시간'], as_index=False).sum()\n",
    "df_연령대_시간"
   ]
  },
  {
   "cell_type": "code",
   "execution_count": null,
   "id": "d8e703cf",
   "metadata": {
    "scrolled": false
   },
   "outputs": [],
   "source": [
    "df_연령대_시간[df_연령대_시간['연령대']==20].plot(x='이용시간', y='이용금액', kind='bar', title='20대 총 이용금액', color = sns.color_palette('PuRd'))\n",
    "df_연령대_시간[df_연령대_시간['연령대']==30].plot(x='이용시간', y='이용금액', kind='bar', title='30대 총 이용금액', color = sns.color_palette('PuRd'))\n",
    "df_연령대_시간[df_연령대_시간['연령대']==40].plot(x='이용시간', y='이용금액', kind='bar', title='40대 총 이용금액', color = sns.color_palette('PuRd'))\n",
    "df_연령대_시간[df_연령대_시간['연령대']==50].plot(x='이용시간', y='이용금액', kind='bar', title='50대 총 이용금액', color = sns.color_palette('PuRd'))\n",
    "df_연령대_시간[df_연령대_시간['연령대']==60].plot(x='이용시간', y='이용금액', kind='bar', title='60대 총 이용금액', color = sns.color_palette('PuRd'))\n",
    "df_연령대_시간[df_연령대_시간['연령대']==70].plot(x='이용시간', y='이용금액', kind='bar', title='70대 총 이용금액', color = sns.color_palette('PuRd'))"
   ]
  },
  {
   "cell_type": "markdown",
   "id": "1fc679f7",
   "metadata": {},
   "source": [
    "## 거주지별"
   ]
  },
  {
   "cell_type": "code",
   "execution_count": null,
   "id": "65b6432a",
   "metadata": {},
   "outputs": [],
   "source": [
    "df_거주지별_합 = df[['거주지', '이용금액']].groupby(['거주지'], as_index=False).sum()\n",
    "#df_연령대별_평균 = df[['연령대', '이용금액']].groupby(['연령대'], as_index=False).mean()\n",
    "df_거주지별_수= df[['거주지']].groupby(['거주지'], as_index=False).size()\n",
    "\n",
    "df_거주지별_합.plot(x='거주지', y='이용금액', kind='bar', title='거주지별 총 이용금액', color = sns.color_palette('PuRd'))\n",
    "#df_연령대별_평균.plot(x='연령대', y='이용금액', kind='bar', title='연령대별 평균 이용금액', color = sns.color_palette('PuRd'))\n",
    "df_거주지별_수.plot(x='거주지', y='size', kind='bar', title='거주지별 이용 빈도', color = sns.color_palette('PuRd'))"
   ]
  },
  {
   "cell_type": "code",
   "execution_count": null,
   "id": "69cf372c",
   "metadata": {
    "scrolled": false
   },
   "outputs": [],
   "source": [
    "df_거주지별_합.sort_values('이용금액', ascending=False)"
   ]
  },
  {
   "cell_type": "code",
   "execution_count": null,
   "id": "8fce4a81",
   "metadata": {},
   "outputs": [],
   "source": [
    "custom_palette = sns.color_palette(\"Set3\", 6)\n",
    "sns.histplot(data=df, x='거주지', hue='연령대', palette = custom_palette)"
   ]
  },
  {
   "cell_type": "code",
   "execution_count": null,
   "id": "c23d6288",
   "metadata": {},
   "outputs": [],
   "source": []
  },
  {
   "cell_type": "code",
   "execution_count": null,
   "id": "360ddc6d",
   "metadata": {},
   "outputs": [],
   "source": [
    "\\=\n"
   ]
  },
  {
   "cell_type": "code",
   "execution_count": null,
   "id": "b348e1cd",
   "metadata": {},
   "outputs": [],
   "source": []
  },
  {
   "cell_type": "code",
   "execution_count": null,
   "id": "4e86d9b7",
   "metadata": {},
   "outputs": [],
   "source": []
  },
  {
   "cell_type": "code",
   "execution_count": null,
   "id": "f349db2b",
   "metadata": {},
   "outputs": [],
   "source": []
  },
  {
   "cell_type": "code",
   "execution_count": null,
   "id": "ed2e4aa7",
   "metadata": {},
   "outputs": [],
   "source": []
  },
  {
   "cell_type": "code",
   "execution_count": null,
   "id": "ce523642",
   "metadata": {},
   "outputs": [],
   "source": []
  },
  {
   "cell_type": "markdown",
   "id": "c4b52a5a",
   "metadata": {},
   "source": [
    "# 해킹중"
   ]
  },
  {
   "cell_type": "code",
   "execution_count": null,
   "id": "b06e9188",
   "metadata": {},
   "outputs": [],
   "source": [
    "DEMO.head() # 고객정보"
   ]
  },
  {
   "cell_type": "code",
   "execution_count": null,
   "id": "88d88797",
   "metadata": {},
   "outputs": [],
   "source": [
    "PDDE.head() # 2.유통사 "
   ]
  },
  {
   "cell_type": "code",
   "execution_count": null,
   "id": "b73b8aeb",
   "metadata": {},
   "outputs": [],
   "source": [
    "COP_U.head() #3제휴사"
   ]
  },
  {
   "cell_type": "code",
   "execution_count": null,
   "id": "5a7d40f9",
   "metadata": {},
   "outputs": [],
   "source": [
    "PD_CLAC.head() #4"
   ]
  },
  {
   "cell_type": "code",
   "execution_count": null,
   "id": "ef6e37a6",
   "metadata": {},
   "outputs": [],
   "source": [
    "BR.head()"
   ]
  },
  {
   "cell_type": "code",
   "execution_count": null,
   "id": "a5b975e5",
   "metadata": {},
   "outputs": [],
   "source": [
    "LPAY.head()"
   ]
  },
  {
   "cell_type": "code",
   "execution_count": null,
   "id": "23b0c7fb",
   "metadata": {},
   "outputs": [],
   "source": [
    "df = pd.merge(COP_U, DEMO)\n",
    "len(df)==len(COP_U)\n",
    "df.head()"
   ]
  },
  {
   "cell_type": "code",
   "execution_count": null,
   "id": "5f96231d",
   "metadata": {},
   "outputs": [],
   "source": [
    "df['일련번호'] = df['고객번호']+df['이용일자'].astype('str')+df['이용시간'].astype('str')+df['이용금액'].astype('str')"
   ]
  },
  {
   "cell_type": "code",
   "execution_count": null,
   "id": "fe508208",
   "metadata": {},
   "outputs": [],
   "source": [
    "df"
   ]
  },
  {
   "cell_type": "code",
   "execution_count": null,
   "id": "397d1c01",
   "metadata": {},
   "outputs": [],
   "source": [
    "LPAY"
   ]
  },
  {
   "cell_type": "code",
   "execution_count": null,
   "id": "1bb6f956",
   "metadata": {},
   "outputs": [],
   "source": [
    "LPAY['일련번호'] = LPAY['고객번호']+LPAY['이용일자'].astype('str')+LPAY['이용시간'].astype('str')+LPAY['이용금액'].astype('str')"
   ]
  },
  {
   "cell_type": "code",
   "execution_count": null,
   "id": "5f48e9f8",
   "metadata": {},
   "outputs": [],
   "source": [
    "df2 = LPAY.copy()"
   ]
  },
  {
   "cell_type": "code",
   "execution_count": null,
   "id": "24e17009",
   "metadata": {},
   "outputs": [],
   "source": [
    "df"
   ]
  },
  {
   "cell_type": "code",
   "execution_count": null,
   "id": "ccd20189",
   "metadata": {},
   "outputs": [],
   "source": [
    "df2"
   ]
  },
  {
   "cell_type": "code",
   "execution_count": null,
   "id": "45c09e8e",
   "metadata": {},
   "outputs": [],
   "source": [
    "pd3=pd.merge(df[['일련번호', '이용금액']], df2[['일련번호', '이용금액']], on='일련번호')\n",
    "pd3"
   ]
  },
  {
   "cell_type": "code",
   "execution_count": null,
   "id": "8061c537",
   "metadata": {},
   "outputs": [],
   "source": [
    "len(df)"
   ]
  },
  {
   "cell_type": "code",
   "execution_count": null,
   "id": "c07270a3",
   "metadata": {},
   "outputs": [],
   "source": []
  },
  {
   "cell_type": "code",
   "execution_count": null,
   "id": "5df30624",
   "metadata": {},
   "outputs": [],
   "source": []
  },
  {
   "cell_type": "code",
   "execution_count": null,
   "id": "3b06328c",
   "metadata": {},
   "outputs": [],
   "source": []
  },
  {
   "cell_type": "code",
   "execution_count": null,
   "id": "4661d1fe",
   "metadata": {
    "scrolled": true
   },
   "outputs": [],
   "source": [
    "pd3[pd3['이용금액_x']!=pd3['이용금액_y']]"
   ]
  },
  {
   "cell_type": "code",
   "execution_count": null,
   "id": "5f6697a5",
   "metadata": {},
   "outputs": [],
   "source": [
    "df[df['일련번호']=='M0280649532021091318']\n",
    "df2[df2['일련번호']=='M0280649532021091318']"
   ]
  },
  {
   "cell_type": "code",
   "execution_count": null,
   "id": "d9dc636f",
   "metadata": {},
   "outputs": [],
   "source": [
    "df2[df2['일련번호']=='M0280649532021091318']"
   ]
  },
  {
   "cell_type": "code",
   "execution_count": null,
   "id": "d1279850",
   "metadata": {},
   "outputs": [],
   "source": [
    "display(df[df['일련번호']=='M2748270572021121316'], df2[df2['일련번호']=='M2748270572021121316'])"
   ]
  },
  {
   "cell_type": "code",
   "execution_count": null,
   "id": "a4365ad0",
   "metadata": {},
   "outputs": [],
   "source": [
    "df"
   ]
  },
  {
   "cell_type": "code",
   "execution_count": null,
   "id": "83881b06",
   "metadata": {},
   "outputs": [],
   "source": [
    "df2"
   ]
  },
  {
   "cell_type": "code",
   "execution_count": null,
   "id": "f7f8bf91",
   "metadata": {},
   "outputs": [],
   "source": [
    "PD_CLAC"
   ]
  },
  {
   "cell_type": "code",
   "execution_count": null,
   "id": "b9f4c928",
   "metadata": {},
   "outputs": [],
   "source": []
  }
 ],
 "metadata": {
  "kernelspec": {
   "display_name": "Python 3 (ipykernel)",
   "language": "python",
   "name": "python3"
  },
  "language_info": {
   "codemirror_mode": {
    "name": "ipython",
    "version": 3
   },
   "file_extension": ".py",
   "mimetype": "text/x-python",
   "name": "python",
   "nbconvert_exporter": "python",
   "pygments_lexer": "ipython3",
   "version": "3.9.7"
  }
 },
 "nbformat": 4,
 "nbformat_minor": 5
}
